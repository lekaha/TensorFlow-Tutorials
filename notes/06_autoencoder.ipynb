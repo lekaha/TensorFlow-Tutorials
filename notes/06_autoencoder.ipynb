{
 "cells": [
  {
   "cell_type": "code",
   "execution_count": 1,
   "metadata": {
    "collapsed": true
   },
   "outputs": [],
   "source": [
    "import sys\n",
    "sys.path.append('../')"
   ]
  },
  {
   "cell_type": "code",
   "execution_count": 2,
   "metadata": {
    "collapsed": false
   },
   "outputs": [
    {
     "name": "stdout",
     "output_type": "stream",
     "text": [
      "('Extracting', 'MNIST_data/train-images-idx3-ubyte.gz')\n",
      "('Extracting', 'MNIST_data/train-labels-idx1-ubyte.gz')\n",
      "('Extracting', 'MNIST_data/t10k-images-idx3-ubyte.gz')\n",
      "('Extracting', 'MNIST_data/t10k-labels-idx1-ubyte.gz')\n",
      "(0, 110793.03)\n",
      "(1, 93502.625)\n",
      "(2, 85263.117)\n",
      "(3, 81706.906)\n",
      "(4, 77591.875)\n",
      "(5, 75157.766)\n",
      "(6, 72022.695)\n",
      "(7, 70865.258)\n",
      "(8, 69643.688)\n",
      "(9, 68343.203)\n"
     ]
    }
   ],
   "source": [
    "import tensorflow as tf\n",
    "import numpy as np\n",
    "import input_data\n",
    "\n",
    "mnist_width = 28\n",
    "n_visible = mnist_width * mnist_width\n",
    "n_hidden = 500\n",
    "corruption_level = 0.3\n",
    "\n",
    "# create node for input data\n",
    "X = tf.placeholder(\"float\", [None, n_visible], name='X')\n",
    "\n",
    "# create node for corruption mask\n",
    "mask = tf.placeholder(\"float\", [None, n_visible], name='mask')\n",
    "\n",
    "# create nodes for hidden variables\n",
    "W_init_max = 4 * np.sqrt(6. / (n_visible + n_hidden))\n",
    "W_init = tf.random_uniform(shape=[n_visible, n_hidden],\n",
    "                           minval=-W_init_max,\n",
    "                           maxval=W_init_max)\n",
    "\n",
    "W = tf.Variable(W_init, name='W')\n",
    "b = tf.Variable(tf.zeros([n_hidden]), name='b')\n",
    "\n",
    "W_prime = tf.transpose(W)  # tied weights between encoder and decoder\n",
    "b_prime = tf.Variable(tf.zeros([n_visible]), name='b_prime')\n",
    "\n",
    "\n",
    "def model(X, mask, W, b, W_prime, b_prime):\n",
    "    tilde_X = mask * X  # corrupted X\n",
    "\n",
    "    Y = tf.nn.sigmoid(tf.matmul(tilde_X, W) + b)  # hidden state\n",
    "    Z = tf.nn.sigmoid(tf.matmul(Y, W_prime) + b_prime)  # reconstructed input\n",
    "    return Z\n",
    "\n",
    "# build model graph\n",
    "Z = model(X, mask, W, b, W_prime, b_prime)\n",
    "\n",
    "# create cost function\n",
    "cost = tf.reduce_sum(tf.pow(X - Z, 2))  # minimize squared error\n",
    "train_op = tf.train.GradientDescentOptimizer(0.02).minimize(cost)  # construct an optimizer\n",
    "\n",
    "# load MNIST data\n",
    "mnist = input_data.read_data_sets(\"MNIST_data/\", one_hot=True)\n",
    "trX, trY, teX, teY = mnist.train.images, mnist.train.labels, mnist.test.images, mnist.test.labels\n",
    "\n",
    "# Launch the graph in a session\n",
    "with tf.Session() as sess:\n",
    "    # you need to initialize all variables\n",
    "    tf.initialize_all_variables().run()\n",
    "\n",
    "    for i in range(10):\n",
    "        for start, end in zip(range(0, len(trX), 128), range(128, len(trX)+1, 128)):\n",
    "            input_ = trX[start:end]\n",
    "            mask_np = np.random.binomial(1, 1 - corruption_level, input_.shape)\n",
    "            sess.run(train_op, feed_dict={X: input_, mask: mask_np})\n",
    "\n",
    "        mask_np = np.random.binomial(1, 1 - corruption_level, teX.shape)\n",
    "        print(i, sess.run(cost, feed_dict={X: teX, mask: mask_np}))\n",
    "\n"
   ]
  },
  {
   "cell_type": "code",
   "execution_count": null,
   "metadata": {
    "collapsed": true
   },
   "outputs": [],
   "source": []
  }
 ],
 "metadata": {
  "kernelspec": {
   "display_name": "Python 2",
   "language": "python",
   "name": "python2"
  },
  "language_info": {
   "codemirror_mode": {
    "name": "ipython",
    "version": 2
   },
   "file_extension": ".py",
   "mimetype": "text/x-python",
   "name": "python",
   "nbconvert_exporter": "python",
   "pygments_lexer": "ipython2",
   "version": "2.7.10"
  }
 },
 "nbformat": 4,
 "nbformat_minor": 1
}
